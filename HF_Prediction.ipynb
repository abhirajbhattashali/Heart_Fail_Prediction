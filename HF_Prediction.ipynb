{
  "nbformat": 4,
  "nbformat_minor": 0,
  "metadata": {
    "colab": {
      "provenance": [],
      "gpuType": "V28",
      "authorship_tag": "ABX9TyOaZmVo5NYKrc9d9GpAlYE6",
      "include_colab_link": true
    },
    "kernelspec": {
      "name": "python3",
      "display_name": "Python 3"
    },
    "language_info": {
      "name": "python"
    },
    "accelerator": "TPU"
  },
  "cells": [
    {
      "cell_type": "markdown",
      "metadata": {
        "id": "view-in-github",
        "colab_type": "text"
      },
      "source": [
        "<a href=\"https://colab.research.google.com/github/abhirajbhattashali/Heart_Fail_Prediction/blob/main/HF_Prediction.ipynb\" target=\"_parent\"><img src=\"https://colab.research.google.com/assets/colab-badge.svg\" alt=\"Open In Colab\"/></a>"
      ]
    },
    {
      "cell_type": "markdown",
      "source": [],
      "metadata": {
        "id": "yyhQBbrlZKyR"
      }
    },
    {
      "cell_type": "code",
      "execution_count": 1,
      "metadata": {
        "id": "Q_C5LOqQY8QB"
      },
      "outputs": [],
      "source": [
        "#Importing Libraries\n",
        "import pandas as pd\n",
        "from sklearn.preprocessing import StandardScaler, LabelEncoder\n",
        "from sklearn.model_selection import train_test_split\n",
        "from collections import Counter\n",
        "from sklearn.compose import ColumnTransformer\n",
        "from tensorflow.keras.models import Sequential\n",
        "from tensorflow.keras.layers import Dense, InputLayer\n",
        "from sklearn.metrics import classification_report\n",
        "from tensorflow.keras.utils import to_categorical\n",
        "import numpy as np\n",
        "from tensorflow.keras.utils import to_categorical"
      ]
    },
    {
      "cell_type": "code",
      "source": [],
      "metadata": {
        "id": "BXWsd37Ad_lR"
      },
      "execution_count": null,
      "outputs": []
    },
    {
      "cell_type": "code",
      "source": [
        "#Reading and splitting data into training and testing subsets\n",
        "data = pd.read_csv(\"/content/heart_failure_clinical_records_dataset.csv\")\n",
        "print(data.info())\n",
        "\n",
        "print(Counter(data['DEATH_EVENT']))\n",
        "\n",
        "y = data['DEATH_EVENT']\n",
        "x = data.drop('DEATH_EVENT',axis=1)\n",
        "\n",
        "x = pd.get_dummies(x)\n",
        "\n",
        "X_train, X_test, Y_train, Y_test = train_test_split(x,y,test_size=0.3,random_state=0)\n"
      ],
      "metadata": {
        "colab": {
          "base_uri": "https://localhost:8080/"
        },
        "id": "swwAp9RSZQMV",
        "outputId": "e62687f8-06ab-4237-83c5-7ca7d658b9c2"
      },
      "execution_count": 4,
      "outputs": [
        {
          "output_type": "stream",
          "name": "stdout",
          "text": [
            "<class 'pandas.core.frame.DataFrame'>\n",
            "RangeIndex: 299 entries, 0 to 298\n",
            "Data columns (total 13 columns):\n",
            " #   Column                    Non-Null Count  Dtype  \n",
            "---  ------                    --------------  -----  \n",
            " 0   age                       299 non-null    float64\n",
            " 1   anaemia                   299 non-null    int64  \n",
            " 2   creatinine_phosphokinase  299 non-null    int64  \n",
            " 3   diabetes                  299 non-null    int64  \n",
            " 4   ejection_fraction         299 non-null    int64  \n",
            " 5   high_blood_pressure       299 non-null    int64  \n",
            " 6   platelets                 299 non-null    float64\n",
            " 7   serum_creatinine          299 non-null    float64\n",
            " 8   serum_sodium              299 non-null    int64  \n",
            " 9   sex                       299 non-null    int64  \n",
            " 10  smoking                   299 non-null    int64  \n",
            " 11  time                      299 non-null    int64  \n",
            " 12  DEATH_EVENT               299 non-null    int64  \n",
            "dtypes: float64(3), int64(10)\n",
            "memory usage: 30.5 KB\n",
            "None\n",
            "Counter({0: 203, 1: 96})\n"
          ]
        }
      ]
    },
    {
      "cell_type": "markdown",
      "source": [],
      "metadata": {
        "id": "xaMu5pGnai1A"
      }
    },
    {
      "cell_type": "code",
      "source": [
        "#FEATURE SCALING\n",
        "ct = ColumnTransformer([(\"numeric\",StandardScaler(),['age','creatinine_phosphokinase','ejection_fraction','platelets','serum_creatinine','serum_sodium','time'])])\n",
        "\n",
        "X_train = ct.fit_transform(X_train)\n",
        "X_test = ct.transform(X_test)"
      ],
      "metadata": {
        "id": "lNoTw_rVZcnH"
      },
      "execution_count": 5,
      "outputs": []
    },
    {
      "cell_type": "code",
      "source": [
        "#LABEL ENCODING\n",
        "le = LabelEncoder()\n",
        "Y_train = le.fit_transform(Y_train.astype(str))\n",
        "Y_test = le.transform(Y_test.astype(str))"
      ],
      "metadata": {
        "id": "IQbHegG6asIO"
      },
      "execution_count": 6,
      "outputs": []
    },
    {
      "cell_type": "code",
      "source": [
        "\n",
        "#  MODEL ARCHITECTURE\n",
        "model = Sequential()\n",
        "#Input Layer\n",
        "model.add(InputLayer(input_shape=(X_train.shape[1],)))\n",
        "\n",
        "#Hidden Layer\n",
        "model.add(Dense(24,activation=\"relu\"))\n",
        "\n",
        "#Output Layer\n",
        "model.add(Dense(2,activation=\"softmax\"))\n",
        "\n",
        "\n"
      ],
      "metadata": {
        "id": "zaLgcOrbavPa"
      },
      "execution_count": 12,
      "outputs": []
    },
    {
      "cell_type": "code",
      "source": [
        "#Compiling the model\n",
        "model.compile(loss='sparse_categorical_crossentropy',optimizer='adam',metrics=['accuracy'])"
      ],
      "metadata": {
        "id": "5kN_xfZ5bKtG"
      },
      "execution_count": 14,
      "outputs": []
    },
    {
      "cell_type": "code",
      "source": [
        "#SUMMARY\n",
        "print(model.summary())"
      ],
      "metadata": {
        "colab": {
          "base_uri": "https://localhost:8080/"
        },
        "id": "PTAl881NbSQO",
        "outputId": "ef0ebb75-8a8f-43e5-af17-238b71af288b"
      },
      "execution_count": 15,
      "outputs": [
        {
          "output_type": "stream",
          "name": "stdout",
          "text": [
            "Model: \"sequential_3\"\n",
            "_________________________________________________________________\n",
            " Layer (type)                Output Shape              Param #   \n",
            "=================================================================\n",
            " dense_6 (Dense)             (None, 24)                192       \n",
            "                                                                 \n",
            " dense_7 (Dense)             (None, 2)                 50        \n",
            "                                                                 \n",
            "=================================================================\n",
            "Total params: 242 (968.00 Byte)\n",
            "Trainable params: 242 (968.00 Byte)\n",
            "Non-trainable params: 0 (0.00 Byte)\n",
            "_________________________________________________________________\n",
            "None\n"
          ]
        }
      ]
    },
    {
      "cell_type": "code",
      "source": [
        "#Training the model\n",
        "model.fit(X_train,Y_train,epochs=100,batch_size=24,verbose=1)"
      ],
      "metadata": {
        "colab": {
          "base_uri": "https://localhost:8080/"
        },
        "id": "QG9e4rBZa79d",
        "outputId": "decf735a-db16-4829-86a5-1d1b7b21737e"
      },
      "execution_count": 16,
      "outputs": [
        {
          "output_type": "stream",
          "name": "stdout",
          "text": [
            "Epoch 1/100\n",
            "9/9 [==============================] - 1s 2ms/step - loss: 0.7686 - accuracy: 0.5024\n",
            "Epoch 2/100\n",
            "9/9 [==============================] - 0s 2ms/step - loss: 0.7157 - accuracy: 0.5646\n",
            "Epoch 3/100\n",
            "9/9 [==============================] - 0s 2ms/step - loss: 0.6737 - accuracy: 0.6316\n",
            "Epoch 4/100\n",
            "9/9 [==============================] - 0s 2ms/step - loss: 0.6370 - accuracy: 0.6603\n",
            "Epoch 5/100\n",
            "9/9 [==============================] - 0s 2ms/step - loss: 0.6055 - accuracy: 0.6842\n",
            "Epoch 6/100\n",
            "9/9 [==============================] - 0s 2ms/step - loss: 0.5788 - accuracy: 0.6938\n",
            "Epoch 7/100\n",
            "9/9 [==============================] - 0s 2ms/step - loss: 0.5563 - accuracy: 0.7033\n",
            "Epoch 8/100\n",
            "9/9 [==============================] - 0s 2ms/step - loss: 0.5366 - accuracy: 0.7081\n",
            "Epoch 9/100\n",
            "9/9 [==============================] - 0s 2ms/step - loss: 0.5190 - accuracy: 0.7368\n",
            "Epoch 10/100\n",
            "9/9 [==============================] - 0s 2ms/step - loss: 0.5029 - accuracy: 0.7560\n",
            "Epoch 11/100\n",
            "9/9 [==============================] - 0s 2ms/step - loss: 0.4893 - accuracy: 0.7703\n",
            "Epoch 12/100\n",
            "9/9 [==============================] - 0s 2ms/step - loss: 0.4769 - accuracy: 0.7847\n",
            "Epoch 13/100\n",
            "9/9 [==============================] - 0s 2ms/step - loss: 0.4659 - accuracy: 0.7799\n",
            "Epoch 14/100\n",
            "9/9 [==============================] - 0s 2ms/step - loss: 0.4549 - accuracy: 0.7895\n",
            "Epoch 15/100\n",
            "9/9 [==============================] - 0s 2ms/step - loss: 0.4459 - accuracy: 0.7895\n",
            "Epoch 16/100\n",
            "9/9 [==============================] - 0s 2ms/step - loss: 0.4375 - accuracy: 0.7895\n",
            "Epoch 17/100\n",
            "9/9 [==============================] - 0s 2ms/step - loss: 0.4295 - accuracy: 0.7847\n",
            "Epoch 18/100\n",
            "9/9 [==============================] - 0s 2ms/step - loss: 0.4217 - accuracy: 0.7943\n",
            "Epoch 19/100\n",
            "9/9 [==============================] - 0s 2ms/step - loss: 0.4152 - accuracy: 0.7943\n",
            "Epoch 20/100\n",
            "9/9 [==============================] - 0s 2ms/step - loss: 0.4094 - accuracy: 0.8086\n",
            "Epoch 21/100\n",
            "9/9 [==============================] - 0s 2ms/step - loss: 0.4036 - accuracy: 0.8134\n",
            "Epoch 22/100\n",
            "9/9 [==============================] - 0s 2ms/step - loss: 0.3982 - accuracy: 0.8134\n",
            "Epoch 23/100\n",
            "9/9 [==============================] - 0s 2ms/step - loss: 0.3934 - accuracy: 0.8230\n",
            "Epoch 24/100\n",
            "9/9 [==============================] - 0s 2ms/step - loss: 0.3890 - accuracy: 0.8278\n",
            "Epoch 25/100\n",
            "9/9 [==============================] - 0s 2ms/step - loss: 0.3848 - accuracy: 0.8278\n",
            "Epoch 26/100\n",
            "9/9 [==============================] - 0s 2ms/step - loss: 0.3813 - accuracy: 0.8278\n",
            "Epoch 27/100\n",
            "9/9 [==============================] - 0s 2ms/step - loss: 0.3776 - accuracy: 0.8182\n",
            "Epoch 28/100\n",
            "9/9 [==============================] - 0s 2ms/step - loss: 0.3748 - accuracy: 0.8182\n",
            "Epoch 29/100\n",
            "9/9 [==============================] - 0s 2ms/step - loss: 0.3715 - accuracy: 0.8182\n",
            "Epoch 30/100\n",
            "9/9 [==============================] - 0s 2ms/step - loss: 0.3691 - accuracy: 0.8182\n",
            "Epoch 31/100\n",
            "9/9 [==============================] - 0s 2ms/step - loss: 0.3665 - accuracy: 0.8182\n",
            "Epoch 32/100\n",
            "9/9 [==============================] - 0s 2ms/step - loss: 0.3642 - accuracy: 0.8182\n",
            "Epoch 33/100\n",
            "9/9 [==============================] - 0s 2ms/step - loss: 0.3623 - accuracy: 0.8182\n",
            "Epoch 34/100\n",
            "9/9 [==============================] - 0s 2ms/step - loss: 0.3599 - accuracy: 0.8230\n",
            "Epoch 35/100\n",
            "9/9 [==============================] - 0s 2ms/step - loss: 0.3582 - accuracy: 0.8278\n",
            "Epoch 36/100\n",
            "9/9 [==============================] - 0s 2ms/step - loss: 0.3560 - accuracy: 0.8278\n",
            "Epoch 37/100\n",
            "9/9 [==============================] - 0s 2ms/step - loss: 0.3545 - accuracy: 0.8278\n",
            "Epoch 38/100\n",
            "9/9 [==============================] - 0s 2ms/step - loss: 0.3531 - accuracy: 0.8325\n",
            "Epoch 39/100\n",
            "9/9 [==============================] - 0s 2ms/step - loss: 0.3514 - accuracy: 0.8325\n",
            "Epoch 40/100\n",
            "9/9 [==============================] - 0s 2ms/step - loss: 0.3500 - accuracy: 0.8325\n",
            "Epoch 41/100\n",
            "9/9 [==============================] - 0s 2ms/step - loss: 0.3484 - accuracy: 0.8325\n",
            "Epoch 42/100\n",
            "9/9 [==============================] - 0s 2ms/step - loss: 0.3471 - accuracy: 0.8325\n",
            "Epoch 43/100\n",
            "9/9 [==============================] - 0s 2ms/step - loss: 0.3461 - accuracy: 0.8278\n",
            "Epoch 44/100\n",
            "9/9 [==============================] - 0s 2ms/step - loss: 0.3447 - accuracy: 0.8278\n",
            "Epoch 45/100\n",
            "9/9 [==============================] - 0s 2ms/step - loss: 0.3437 - accuracy: 0.8278\n",
            "Epoch 46/100\n",
            "9/9 [==============================] - 0s 2ms/step - loss: 0.3428 - accuracy: 0.8325\n",
            "Epoch 47/100\n",
            "9/9 [==============================] - 0s 2ms/step - loss: 0.3415 - accuracy: 0.8278\n",
            "Epoch 48/100\n",
            "9/9 [==============================] - 0s 2ms/step - loss: 0.3402 - accuracy: 0.8278\n",
            "Epoch 49/100\n",
            "9/9 [==============================] - 0s 2ms/step - loss: 0.3393 - accuracy: 0.8278\n",
            "Epoch 50/100\n",
            "9/9 [==============================] - 0s 2ms/step - loss: 0.3381 - accuracy: 0.8278\n",
            "Epoch 51/100\n",
            "9/9 [==============================] - 0s 2ms/step - loss: 0.3374 - accuracy: 0.8278\n",
            "Epoch 52/100\n",
            "9/9 [==============================] - 0s 2ms/step - loss: 0.3361 - accuracy: 0.8325\n",
            "Epoch 53/100\n",
            "9/9 [==============================] - 0s 2ms/step - loss: 0.3349 - accuracy: 0.8373\n",
            "Epoch 54/100\n",
            "9/9 [==============================] - 0s 2ms/step - loss: 0.3341 - accuracy: 0.8373\n",
            "Epoch 55/100\n",
            "9/9 [==============================] - 0s 2ms/step - loss: 0.3334 - accuracy: 0.8373\n",
            "Epoch 56/100\n",
            "9/9 [==============================] - 0s 2ms/step - loss: 0.3323 - accuracy: 0.8373\n",
            "Epoch 57/100\n",
            "9/9 [==============================] - 0s 2ms/step - loss: 0.3311 - accuracy: 0.8373\n",
            "Epoch 58/100\n",
            "9/9 [==============================] - 0s 2ms/step - loss: 0.3304 - accuracy: 0.8373\n",
            "Epoch 59/100\n",
            "9/9 [==============================] - 0s 2ms/step - loss: 0.3294 - accuracy: 0.8373\n",
            "Epoch 60/100\n",
            "9/9 [==============================] - 0s 2ms/step - loss: 0.3288 - accuracy: 0.8421\n",
            "Epoch 61/100\n",
            "9/9 [==============================] - 0s 2ms/step - loss: 0.3276 - accuracy: 0.8517\n",
            "Epoch 62/100\n",
            "9/9 [==============================] - 0s 2ms/step - loss: 0.3269 - accuracy: 0.8517\n",
            "Epoch 63/100\n",
            "9/9 [==============================] - 0s 2ms/step - loss: 0.3260 - accuracy: 0.8517\n",
            "Epoch 64/100\n",
            "9/9 [==============================] - 0s 2ms/step - loss: 0.3250 - accuracy: 0.8517\n",
            "Epoch 65/100\n",
            "9/9 [==============================] - 0s 2ms/step - loss: 0.3244 - accuracy: 0.8517\n",
            "Epoch 66/100\n",
            "9/9 [==============================] - 0s 2ms/step - loss: 0.3235 - accuracy: 0.8469\n",
            "Epoch 67/100\n",
            "9/9 [==============================] - 0s 2ms/step - loss: 0.3226 - accuracy: 0.8517\n",
            "Epoch 68/100\n",
            "9/9 [==============================] - 0s 2ms/step - loss: 0.3222 - accuracy: 0.8517\n",
            "Epoch 69/100\n",
            "9/9 [==============================] - 0s 2ms/step - loss: 0.3211 - accuracy: 0.8469\n",
            "Epoch 70/100\n",
            "9/9 [==============================] - 0s 2ms/step - loss: 0.3199 - accuracy: 0.8469\n",
            "Epoch 71/100\n",
            "9/9 [==============================] - 0s 2ms/step - loss: 0.3192 - accuracy: 0.8517\n",
            "Epoch 72/100\n",
            "9/9 [==============================] - 0s 2ms/step - loss: 0.3184 - accuracy: 0.8517\n",
            "Epoch 73/100\n",
            "9/9 [==============================] - 0s 2ms/step - loss: 0.3176 - accuracy: 0.8517\n",
            "Epoch 74/100\n",
            "9/9 [==============================] - 0s 2ms/step - loss: 0.3169 - accuracy: 0.8517\n",
            "Epoch 75/100\n",
            "9/9 [==============================] - 0s 2ms/step - loss: 0.3159 - accuracy: 0.8517\n",
            "Epoch 76/100\n",
            "9/9 [==============================] - 0s 2ms/step - loss: 0.3154 - accuracy: 0.8565\n",
            "Epoch 77/100\n",
            "9/9 [==============================] - 0s 2ms/step - loss: 0.3144 - accuracy: 0.8517\n",
            "Epoch 78/100\n",
            "9/9 [==============================] - 0s 2ms/step - loss: 0.3135 - accuracy: 0.8517\n",
            "Epoch 79/100\n",
            "9/9 [==============================] - 0s 2ms/step - loss: 0.3131 - accuracy: 0.8517\n",
            "Epoch 80/100\n",
            "9/9 [==============================] - 0s 2ms/step - loss: 0.3119 - accuracy: 0.8517\n",
            "Epoch 81/100\n",
            "9/9 [==============================] - 0s 2ms/step - loss: 0.3110 - accuracy: 0.8517\n",
            "Epoch 82/100\n",
            "9/9 [==============================] - 0s 2ms/step - loss: 0.3105 - accuracy: 0.8517\n",
            "Epoch 83/100\n",
            "9/9 [==============================] - 0s 2ms/step - loss: 0.3095 - accuracy: 0.8517\n",
            "Epoch 84/100\n",
            "9/9 [==============================] - 0s 2ms/step - loss: 0.3086 - accuracy: 0.8517\n",
            "Epoch 85/100\n",
            "9/9 [==============================] - 0s 2ms/step - loss: 0.3081 - accuracy: 0.8517\n",
            "Epoch 86/100\n",
            "9/9 [==============================] - 0s 2ms/step - loss: 0.3072 - accuracy: 0.8517\n",
            "Epoch 87/100\n",
            "9/9 [==============================] - 0s 2ms/step - loss: 0.3064 - accuracy: 0.8517\n",
            "Epoch 88/100\n",
            "9/9 [==============================] - 0s 2ms/step - loss: 0.3057 - accuracy: 0.8565\n",
            "Epoch 89/100\n",
            "9/9 [==============================] - 0s 2ms/step - loss: 0.3049 - accuracy: 0.8565\n",
            "Epoch 90/100\n",
            "9/9 [==============================] - 0s 2ms/step - loss: 0.3042 - accuracy: 0.8565\n",
            "Epoch 91/100\n",
            "9/9 [==============================] - 0s 2ms/step - loss: 0.3033 - accuracy: 0.8565\n",
            "Epoch 92/100\n",
            "9/9 [==============================] - 0s 2ms/step - loss: 0.3026 - accuracy: 0.8565\n",
            "Epoch 93/100\n",
            "9/9 [==============================] - 0s 2ms/step - loss: 0.3020 - accuracy: 0.8565\n",
            "Epoch 94/100\n",
            "9/9 [==============================] - 0s 2ms/step - loss: 0.3012 - accuracy: 0.8612\n",
            "Epoch 95/100\n",
            "9/9 [==============================] - 0s 2ms/step - loss: 0.3006 - accuracy: 0.8612\n",
            "Epoch 96/100\n",
            "9/9 [==============================] - 0s 2ms/step - loss: 0.2995 - accuracy: 0.8612\n",
            "Epoch 97/100\n",
            "9/9 [==============================] - 0s 2ms/step - loss: 0.2992 - accuracy: 0.8612\n",
            "Epoch 98/100\n",
            "9/9 [==============================] - 0s 2ms/step - loss: 0.2982 - accuracy: 0.8660\n",
            "Epoch 99/100\n",
            "9/9 [==============================] - 0s 2ms/step - loss: 0.2977 - accuracy: 0.8660\n",
            "Epoch 100/100\n",
            "9/9 [==============================] - 0s 2ms/step - loss: 0.2970 - accuracy: 0.8660\n"
          ]
        },
        {
          "output_type": "execute_result",
          "data": {
            "text/plain": [
              "<keras.src.callbacks.History at 0x7d8816345300>"
            ]
          },
          "metadata": {},
          "execution_count": 16
        }
      ]
    },
    {
      "cell_type": "code",
      "source": [
        "#Evaluating the model\n",
        "loss,acc = model.evaluate(X_test,Y_test,verbose=0)\n",
        "print(\"Loss\", loss, \"Accuracy:\", acc)"
      ],
      "metadata": {
        "colab": {
          "base_uri": "https://localhost:8080/"
        },
        "id": "tP6xK0kVbfey",
        "outputId": "a4b4ca3e-5b53-451b-f010-186550c17df7"
      },
      "execution_count": 17,
      "outputs": [
        {
          "output_type": "stream",
          "name": "stdout",
          "text": [
            "Loss 0.4273369312286377 Accuracy: 0.8444444537162781\n"
          ]
        }
      ]
    },
    {
      "cell_type": "code",
      "source": [
        "y_estimate = model.predict(X_test,verbose=0)\n",
        "y_estimate = np.argmax(y_estimate, axis=1)\n",
        "y_true = Y_test\n",
        "\n",
        "#Classification Report\n",
        "print(classification_report(y_true,y_estimate))\n"
      ],
      "metadata": {
        "colab": {
          "base_uri": "https://localhost:8080/"
        },
        "id": "wmHcKSoWblms",
        "outputId": "f850cff1-2571-44e9-d7a1-7dccaf0c5293"
      },
      "execution_count": 18,
      "outputs": [
        {
          "output_type": "stream",
          "name": "stdout",
          "text": [
            "              precision    recall  f1-score   support\n",
            "\n",
            "           0       0.84      0.95      0.89        62\n",
            "           1       0.85      0.61      0.71        28\n",
            "\n",
            "    accuracy                           0.84        90\n",
            "   macro avg       0.85      0.78      0.80        90\n",
            "weighted avg       0.85      0.84      0.84        90\n",
            "\n"
          ]
        }
      ]
    },
    {
      "cell_type": "markdown",
      "source": [],
      "metadata": {
        "id": "H5WsdoQsZJ-L"
      }
    },
    {
      "cell_type": "code",
      "source": [
        "\n",
        "\n",
        "import seaborn as sns\n",
        "import matplotlib.pyplot as plt\n",
        "from sklearn.metrics import confusion_matrix\n",
        "\n",
        "# Confusion Matrix\n",
        "cm = confusion_matrix(y_true, y_estimate)\n",
        "\n",
        "\n",
        "labels = ['No', 'Yes']\n",
        "\n",
        "# Heatmap\n",
        "plt.figure(figsize=(8, 6))\n",
        "sns.heatmap(cm, annot=True, fmt='d', cmap='Reds', xticklabels=labels, yticklabels=labels)\n",
        "plt.title('Confusion Matrix')\n",
        "plt.xlabel('Predicted Label')\n",
        "plt.ylabel('Actual Label')\n",
        "plt.show()\n",
        "\n",
        "\n",
        "deviation = y_estimate - y_true\n",
        "\n",
        "# Histogram to visualize the deviation\n",
        "plt.figure(figsize=(8, 6))\n",
        "sns.histplot(deviation, bins=20, kde=True, color='red')\n",
        "plt.title('Deviation of Predictions from Actual Values')\n",
        "plt.xlabel('Deviation')\n",
        "plt.ylabel('Frequency')\n",
        "plt.show()\n",
        "\n",
        "# Accuracy\n",
        "print(f\"Accuracy of the model: {acc}\")\n",
        "\n",
        "\n",
        "#INFO\n",
        "print(\"\\nModel Performance Explanation:\")\n",
        "print(\"The confusion matrix shows how many predictions were correct and incorrect for each label.\")\n",
        "print(\"For example, the top-left cell shows the number of true negatives (correctly predicted 'No').\")\n",
        "print(\"The bottom-right cell shows the number of true positives (correctly predicted 'Yes').\")\n",
        "print(\"The other cells show the number of false positives and false negatives.\")\n",
        "print(\"\\nThe deviation graph shows the difference between the predicted and actual values.\")\n",
        "print(\"A large deviation means that the prediction was far from the actual value.\")\n",
        "print(\"A small deviation means that the prediction was close to the actual value.\")\n",
        "print(\"\\nThe accuracy of the model shows the overall percentage of correct predictions.\")\n"
      ],
      "metadata": {
        "colab": {
          "base_uri": "https://localhost:8080/",
          "height": 1000
        },
        "id": "-KrponYrbrmD",
        "outputId": "f5d379cf-13e3-494b-e1e4-ab1b012d40c3"
      },
      "execution_count": 25,
      "outputs": [
        {
          "output_type": "display_data",
          "data": {
            "text/plain": [
              "<Figure size 800x600 with 2 Axes>"
            ],
            "image/png": "[encoded data removed]"
          },
          "metadata": {}
        },
        {
          "output_type": "display_data",
          "data": {
            "text/plain": [
              "<Figure size 800x600 with 1 Axes>"
            ],
            "image/png": "[encoded data removed]"
          },
          "metadata": {}
        },
        {
          "output_type": "stream",
          "name": "stdout",
          "text": [
            "Accuracy of the model: 0.8444444537162781\n",
            "\n",
            "Model Performance Explanation:\n",
            "The confusion matrix shows how many predictions were correct and incorrect for each label.\n",
            "For example, the top-left cell shows the number of true negatives (correctly predicted 'No').\n",
            "The bottom-right cell shows the number of true positives (correctly predicted 'Yes').\n",
            "The other cells show the number of false positives and false negatives.\n",
            "\n",
            "The deviation graph shows the difference between the predicted and actual values.\n",
            "A large deviation means that the prediction was far from the actual value.\n",
            "A small deviation means that the prediction was close to the actual value.\n",
            "\n",
            "The accuracy of the model shows the overall percentage of correct predictions.\n"
          ]
        }
      ]
    }
  ]
}